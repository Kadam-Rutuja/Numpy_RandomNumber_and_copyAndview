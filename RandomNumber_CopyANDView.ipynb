{
 "cells": [
  {
   "cell_type": "code",
   "execution_count": 4,
   "metadata": {},
   "outputs": [
    {
     "name": "stdout",
     "output_type": "stream",
     "text": [
      "6\n"
     ]
    }
   ],
   "source": [
    "from numpy import random\n",
    "\n",
    "i = random.randint(10)\n",
    "\n",
    "print(i)"
   ]
  },
  {
   "cell_type": "code",
   "execution_count": 6,
   "metadata": {},
   "outputs": [
    {
     "name": "stdout",
     "output_type": "stream",
     "text": [
      "0.4877750410028334\n"
     ]
    }
   ],
   "source": [
    "from numpy import random\n",
    "\n",
    "i = random.rand()\n",
    "\n",
    "print(i)"
   ]
  },
  {
   "cell_type": "code",
   "execution_count": 7,
   "metadata": {},
   "outputs": [
    {
     "name": "stdout",
     "output_type": "stream",
     "text": [
      "[0.57857691 0.96800805 0.5505033  0.86634557 0.73586272 0.60907124\n",
      " 0.61730249 0.88923457 0.94882981 0.6711312  0.61506124]\n"
     ]
    }
   ],
   "source": [
    "from numpy import random\n",
    "\n",
    "i = random.rand(11)\n",
    "\n",
    "print(i)"
   ]
  },
  {
   "cell_type": "code",
   "execution_count": 9,
   "metadata": {},
   "outputs": [
    {
     "name": "stdout",
     "output_type": "stream",
     "text": [
      "[48 75 75 67 62 98 69 59 75 68]\n"
     ]
    }
   ],
   "source": [
    "from numpy import random\n",
    "\n",
    "i = random.randint(100,size=(10))\n",
    "\n",
    "print(i)"
   ]
  },
  {
   "cell_type": "code",
   "execution_count": 11,
   "metadata": {},
   "outputs": [
    {
     "name": "stdout",
     "output_type": "stream",
     "text": [
      "[[81 16 10 61 30]\n",
      " [15 43 67 49 28]\n",
      " [82 46 65  7 58]]\n"
     ]
    }
   ],
   "source": [
    "from numpy import random\n",
    "\n",
    "i = random.randint(100,size=(3,5))\n",
    "\n",
    "print(i)"
   ]
  },
  {
   "cell_type": "code",
   "execution_count": 12,
   "metadata": {},
   "outputs": [
    {
     "name": "stdout",
     "output_type": "stream",
     "text": [
      "[[11 44 85 94 67]\n",
      " [66  5 70 71 61]\n",
      " [98 63 17 50 31]\n",
      " [ 9 93 33 85 50]\n",
      " [44 63 59 59  3]]\n"
     ]
    }
   ],
   "source": [
    "from numpy import random\n",
    "\n",
    "i = random.randint(100,size=(5,5))\n",
    "\n",
    "print(i)"
   ]
  },
  {
   "cell_type": "code",
   "execution_count": 13,
   "metadata": {},
   "outputs": [
    {
     "name": "stdout",
     "output_type": "stream",
     "text": [
      "[[[61 18]\n",
      "  [75 51]\n",
      "  [81 34]\n",
      "  [39 97]\n",
      "  [52 13]]\n",
      "\n",
      " [[61 30]\n",
      "  [22 26]\n",
      "  [18 16]\n",
      "  [65 88]\n",
      "  [19 26]]\n",
      "\n",
      " [[70 63]\n",
      "  [39 30]\n",
      "  [ 8 21]\n",
      "  [51 91]\n",
      "  [25 33]]]\n"
     ]
    }
   ],
   "source": [
    "from numpy import random\n",
    "\n",
    "i = random.randint(100,size=(3,5,2))\n",
    "\n",
    "print(i)"
   ]
  },
  {
   "cell_type": "code",
   "execution_count": 15,
   "metadata": {},
   "outputs": [
    {
     "name": "stdout",
     "output_type": "stream",
     "text": [
      "[[0.67995138 0.38117164 0.0964272  0.13297674 0.5769471 ]\n",
      " [0.18452874 0.69740213 0.91786787 0.92371704 0.70744551]\n",
      " [0.90856298 0.28086034 0.99156445 0.57263712 0.34277481]]\n"
     ]
    }
   ],
   "source": [
    "from numpy import random\n",
    "\n",
    "i = random.rand(3,5)\n",
    "\n",
    "print(i)"
   ]
  },
  {
   "cell_type": "code",
   "execution_count": 21,
   "metadata": {},
   "outputs": [
    {
     "name": "stdout",
     "output_type": "stream",
     "text": [
      "60\n"
     ]
    }
   ],
   "source": [
    "list1 = [10,20,30,40,50,60,70,80,90]\n",
    "\n",
    "i = random.choice(list1)\n",
    "\n",
    "print(i)"
   ]
  },
  {
   "cell_type": "code",
   "execution_count": 24,
   "metadata": {},
   "outputs": [
    {
     "name": "stdout",
     "output_type": "stream",
     "text": [
      "[[60 70 90 70 90]\n",
      " [60 30 30 40 30]\n",
      " [80 60 20 90 80]]\n"
     ]
    }
   ],
   "source": [
    "list1 = [10,20,30,40,50,60,70,80,90]\n",
    "\n",
    "i = random.choice(list1,size=(3,5))\n",
    "\n",
    "print(i)"
   ]
  },
  {
   "cell_type": "code",
   "execution_count": 25,
   "metadata": {},
   "outputs": [
    {
     "name": "stdout",
     "output_type": "stream",
     "text": [
      "[[[80 80]\n",
      "  [70 50]\n",
      "  [20 10]\n",
      "  [80 40]\n",
      "  [60 20]]\n",
      "\n",
      " [[20 80]\n",
      "  [40 30]\n",
      "  [40 80]\n",
      "  [70 80]\n",
      "  [40 10]]\n",
      "\n",
      " [[80 70]\n",
      "  [40 30]\n",
      "  [60 60]\n",
      "  [20 90]\n",
      "  [20 90]]]\n"
     ]
    }
   ],
   "source": [
    "list1 = [10,20,30,40,50,60,70,80,90]\n",
    "\n",
    "i = random.choice(list1,size=(3,5,2))\n",
    "\n",
    "print(i)"
   ]
  },
  {
   "cell_type": "code",
   "execution_count": 26,
   "metadata": {},
   "outputs": [
    {
     "name": "stdout",
     "output_type": "stream",
     "text": [
      "[10 20  3  4  5]\n",
      "[1 2 3 4 5]\n"
     ]
    }
   ],
   "source": [
    "import numpy as np\n",
    "\n",
    "i = np.array([1,2,3,4,5])\n",
    "\n",
    "j = i.copy() #j = copy data\n",
    "\n",
    "i[0] = 10\n",
    "i[1] = 20\n",
    "\n",
    "print(i)\n",
    "print(j)"
   ]
  },
  {
   "cell_type": "code",
   "execution_count": 27,
   "metadata": {},
   "outputs": [
    {
     "name": "stdout",
     "output_type": "stream",
     "text": [
      "[10 20  3  4  5]\n",
      "[10 20  3  4  5]\n"
     ]
    }
   ],
   "source": [
    "import numpy as np\n",
    "\n",
    "i = np.array([1,2,3,4,5])\n",
    "\n",
    "j = i.view()   #j = view data\n",
    "\n",
    "i[0] = 10\n",
    "i[1] = 20\n",
    "\n",
    "print(i)\n",
    "print(j)"
   ]
  },
  {
   "cell_type": "code",
   "execution_count": 29,
   "metadata": {},
   "outputs": [
    {
     "name": "stdout",
     "output_type": "stream",
     "text": [
      "[10 20  3  4  5]\n",
      "[10 20  3  4  5]\n",
      "\n",
      "None\n",
      "[10 20  3  4  5]\n"
     ]
    }
   ],
   "source": [
    "import numpy as np\n",
    "\n",
    "i = np.array([1,2,3,4,5])\n",
    "\n",
    "j = i.view()   #j = view data\n",
    "\n",
    "i[0] = 10\n",
    "i[1] = 20\n",
    "\n",
    "print(i)\n",
    "print(j)\n",
    "print()\n",
    "\n",
    "print(i.base)\n",
    "print(j.base)"
   ]
  },
  {
   "cell_type": "code",
   "execution_count": null,
   "metadata": {},
   "outputs": [],
   "source": []
  }
 ],
 "metadata": {
  "kernelspec": {
   "display_name": "Python 3",
   "language": "python",
   "name": "python3"
  },
  "language_info": {
   "codemirror_mode": {
    "name": "ipython",
    "version": 3
   },
   "file_extension": ".py",
   "mimetype": "text/x-python",
   "name": "python",
   "nbconvert_exporter": "python",
   "pygments_lexer": "ipython3",
   "version": "3.8.5"
  }
 },
 "nbformat": 4,
 "nbformat_minor": 4
}
